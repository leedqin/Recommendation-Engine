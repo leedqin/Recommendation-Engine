{
 "cells": [
  {
   "cell_type": "code",
   "execution_count": 1,
   "metadata": {
    "collapsed": false,
    "deletable": true,
    "editable": true
   },
   "outputs": [],
   "source": [
    "import pandas as pd\n",
    "from sklearn.feature_extraction.text import TfidfVectorizer\n",
    "from sklearn.metrics.pairwise import linear_kernel\n",
    "from weather import Weather\n",
    "import warnings\n",
    "warnings.filterwarnings('ignore')"
   ]
  },
  {
   "cell_type": "code",
   "execution_count": 3,
   "metadata": {
    "collapsed": false,
    "deletable": true,
    "editable": true
   },
   "outputs": [
    {
     "name": "stdout",
     "output_type": "stream",
     "text": [
      "Enter keyword: shirt \n",
      "Here are some items that match your keyword:\n",
      "2   Uniqlo navy blue deep crew tshirt: The supima cotton tshirt provides a very elegant casual neat look. Best for comfortable work look. Otherwise wear it with Uniqlo beige denim with black Tommy Hilfiger shoes\n",
      "21   Banana Republic white ruffles top: T shirt meets ruffles =  comfortable classy trendy white shirt perfect with the grey ankle pants\n",
      "26   Calvin Klein navy button down satin dress: The shirt dress with golden buttons and zips aspires to give you a royal look\n",
      "29   Forever 21 red tshirt dress: The most comfortable casual red dress which works like a t shirt. Simple but effective look with brown leather ankle boots\n",
      "36   Old Navy grey and teal mesh sweatshirt/hoodie: For a casual fun looking sweatshirt in fall. It's warm and comfortable\n",
      "39   Stanford Summer College Tshirt: a fun reminder of Stanford and a very comfortable large tshirt to wear with good jeans or just for a lazy day at home\n",
      "\n",
      "\n",
      "Please pick an item so we can find more recommendations.\n",
      "Enter ID:2\n",
      "Uniqlo navy blue deep crew tshirt: The supima cotton tshirt provides a very elegant casual neat look. Best for comfortable work look. Otherwise wear it with Uniqlo beige denim with black Tommy Hilfiger shoesoutfit worn before\n"
     ]
    }
   ],
   "source": [
    "data = pd.read_csv(\"input_data.csv\")\n",
    "keyword = input('Enter keyword: ')\n",
    "print('Here are some items that match your keyword:')\n",
    "\n",
    "results = []\n",
    "\n",
    "for i in range(len(data['Description'])):\n",
    "    if keyword in data['Description'][i]:\n",
    "        results.append((i, data['Description'][i]))\n",
    "    if len(results) == 6:\n",
    "        break\n",
    "\n",
    "for result in results:\n",
    "    print(result[0], ' ', result[1])\n",
    "\n",
    "print('\\n')\n",
    "print('Please pick an item so we can find more recommendations.')\n",
    "reference_item = int(input('Enter ID:'))\n",
    "a = data['Description'][reference_item] + \"outfit worn before\"\n",
    "print(a)\n"
   ]
  },
  {
   "cell_type": "code",
   "execution_count": 4,
   "metadata": {
    "collapsed": false,
    "deletable": true,
    "editable": true
   },
   "outputs": [
    {
     "name": "stdout",
     "output_type": "stream",
     "text": [
      "Hot weather detected in Sydney. Recommendations are being tailored accordingly.\n"
     ]
    }
   ],
   "source": [
    "data = pd.read_csv(\"input_data.csv\")\n",
    "weather = Weather(unit='c')\n",
    "\n",
    "current_location = 'Sydney'\n",
    "location = weather.lookup_by_location(current_location)\n",
    "condition = location.condition().text()\n",
    "\n",
    "forecasts = location.forecast()\n",
    "weather_lo = int(forecasts[0].low())\n",
    "weather_hi = int(forecasts[0].high())\n",
    "\n",
    "if weather_hi >= 18 and weather_lo <= 7:\n",
    "    data['Description'][reference_item] += ' fall spring layer'\n",
    "    weather_condition = 'Fall/Spring'\n",
    "elif weather_hi > 20:\n",
    "    data['Description'][reference_item] += ' hot sunny summer shorts skirt'\n",
    "    weather_condition = 'Hot'\n",
    "elif weather_lo < 5:\n",
    "    data['Description'][reference_item] += ' cold warm cozy sweater'\n",
    "    weather_condition = 'Cold'\n",
    "    \n",
    "message = '{} weather detected in {}. Recommendations are being tailored accordingly.'\n",
    "print(message.format(weather_condition, current_location))"
   ]
  },
  {
   "cell_type": "code",
   "execution_count": 5,
   "metadata": {
    "collapsed": false,
    "deletable": true,
    "editable": true
   },
   "outputs": [],
   "source": [
    "tf = TfidfVectorizer(analyzer='word', ngram_range=(1, 3), min_df=0, stop_words='english')\n",
    "tfidf_matrix = tf.fit_transform(data['Description'])\n",
    "cosine_similarities = linear_kernel(tfidf_matrix, tfidf_matrix)\n",
    "results = {}"
   ]
  },
  {
   "cell_type": "code",
   "execution_count": 6,
   "metadata": {
    "collapsed": true,
    "deletable": true,
    "editable": true
   },
   "outputs": [],
   "source": [
    "for idx, row in data.iterrows():\n",
    "    similar_indices = cosine_similarities[idx].argsort()[:-100:-1]\n",
    "    similar_items = [(cosine_similarities[idx][i], data['ID'][i]) for i in similar_indices]\n",
    "\n",
    "    # First item is the item itself, so remove it.\n",
    "    # Each dictionary entry is like: [(1,2), (3,4)], with each tuple being (score, item_id)\n",
    "    results[row['ID']] = similar_items[1:]"
   ]
  },
  {
   "cell_type": "code",
   "execution_count": 7,
   "metadata": {
    "collapsed": false,
    "deletable": true,
    "editable": true
   },
   "outputs": [
    {
     "name": "stdout",
     "output_type": "stream",
     "text": [
      "Recommending 9 clothes similar to Uniqlo navy blue deep crew tshirt...\n",
      "-------\n",
      "Uniqlo rayon olive green blouse: This sleeveless cotton blouse is very elegant. It's perfect for dressing up or down for casual or work . Looks best with blue jeans or black denim.Can also be paired with a black skirt. It's perfect for a warm sunny summer day. Black Tommy Hilfiger shoes are perfect with this (score: 0.17178)\n",
      "Uniqlo blue supima cotton tank: comfortable blue supima cotton tank-top for a minimal look (score: 0.11162)\n",
      "Uniqlo black supima cotton tank: comfortable black supima cotton tank-top for a minimal look (score: 0.11113)\n",
      "Uniqlo navy blue and white jumpsuit: A very neat comfortable professional looking jumpsuits. It's perfect for a slightly cold day in Boston in fall to wearing for work.It's great for traveling. It brings out your figure and gives an all-season chic look (score: 0.0832)\n",
      "Forever 21 maroon crop tshirt: Looks really cute with black shorts or a black skirt on a hot sunny day (score: 0.07388)\n",
      "Uniqlo pink blouse: This french linen blouse is very comfortable for a professional work environment. Looks best with blue jeans or grey denim. It's perfect for a warm sunny summer day. Grey toms look really beautiful with it (score: 0.07074)\n",
      "Zara double layer sea green top: The sleeveless sea green top with lace hem is tastefully extra. It pairs well with Uniqlo beige jeans. Or it can work as a classy-casual look with J-Crew chino shorts. You can wear it for a cool spring look on a hot day. Or pair it with a nice jacket in a winter (score: 0.07074)\n",
      "Primark denim shorts: A summer essential shorts to go with any top or tshirt in summer (score: 0.06695)\n",
      "HnM black and white patterned romper: Perfectly comfortable romper for a cute fun look on a hot summer day. Works perfectly with Tommy Hilfiger sandals and Toms (score: 0.06309)\n"
     ]
    }
   ],
   "source": [
    "def item(id):\n",
    "    return data.loc[data['ID'] == id]['Description'].tolist()[0].split(' - ')[0]\n",
    "\n",
    "def recommend(item_id, num):\n",
    "    print(\"Recommending \" + str(num) + \" clothes similar to \" + item(item_id).split(':')[0] + \"...\")\n",
    "    print(\"-------\")\n",
    "    recs = results[item_id][:num]\n",
    "    for rec in recs:\n",
    "        print(item(rec[1]) + \" (score: \" + str(round(rec[0], 5)) + \")\")\n",
    "recommend(item_id=reference_item, num=9)\n",
    "\n"
   ]
  },
  {
   "cell_type": "code",
   "execution_count": null,
   "metadata": {
    "collapsed": true,
    "deletable": true,
    "editable": true
   },
   "outputs": [],
   "source": []
  },
  {
   "cell_type": "code",
   "execution_count": null,
   "metadata": {
    "collapsed": true,
    "deletable": true,
    "editable": true
   },
   "outputs": [],
   "source": []
  }
 ],
 "metadata": {
  "kernelspec": {
   "display_name": "Python 3",
   "language": "python",
   "name": "python3"
  },
  "language_info": {
   "codemirror_mode": {
    "name": "ipython",
    "version": 3
   },
   "file_extension": ".py",
   "mimetype": "text/x-python",
   "name": "python",
   "nbconvert_exporter": "python",
   "pygments_lexer": "ipython3",
   "version": "3.6.3"
  }
 },
 "nbformat": 4,
 "nbformat_minor": 2
}
