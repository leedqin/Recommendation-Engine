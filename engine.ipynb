{
 "cells": [
  {
   "cell_type": "code",
   "execution_count": 2,
   "metadata": {
    "collapsed": false,
    "deletable": true,
    "editable": true
   },
   "outputs": [],
   "source": [
    "import pandas as pd\n",
    "from sklearn.feature_extraction.text import TfidfVectorizer\n",
    "from sklearn.metrics.pairwise import linear_kernel\n"
   ]
  },
  {
   "cell_type": "code",
   "execution_count": 4,
   "metadata": {
    "collapsed": true,
    "deletable": true,
    "editable": true
   },
   "outputs": [],
   "source": [
    "data = pd.read_csv(\"inputdata.csv\")"
   ]
  },
  {
   "cell_type": "code",
   "execution_count": 7,
   "metadata": {
    "collapsed": false,
    "deletable": true,
    "editable": true
   },
   "outputs": [],
   "source": [
    "tf = TfidfVectorizer(analyzer='word', ngram_range=(1, 3), min_df=0, stop_words='english')\n",
    "tfidf_matrix = tf.fit_transform(data['Description'])\n"
   ]
  },
  {
   "cell_type": "code",
   "execution_count": 8,
   "metadata": {
    "collapsed": true,
    "deletable": true,
    "editable": true
   },
   "outputs": [],
   "source": [
    "cosine_similarities = linear_kernel(tfidf_matrix, tfidf_matrix)"
   ]
  },
  {
   "cell_type": "code",
   "execution_count": 9,
   "metadata": {
    "collapsed": true,
    "deletable": true,
    "editable": true
   },
   "outputs": [],
   "source": [
    "results = {}"
   ]
  },
  {
   "cell_type": "code",
   "execution_count": 13,
   "metadata": {
    "collapsed": false,
    "deletable": true,
    "editable": true
   },
   "outputs": [],
   "source": [
    "\n",
    "for idx, row in data.iterrows():\n",
    "    similar_indices = cosine_similarities[idx].argsort()[:-100:-1]\n",
    "    similar_items = [(cosine_similarities[idx][i], data['ID'][i]) for i in similar_indices]\n",
    "\n",
    "    # First item is the item itself, so remove it.\n",
    "    # Each dictionary entry is like: [(1,2), (3,4)], with each tuple being (score, item_id)\n",
    "    results[row['ID']] = similar_items[1:]\n",
    "    "
   ]
  },
  {
   "cell_type": "code",
   "execution_count": 14,
   "metadata": {
    "collapsed": false,
    "deletable": true,
    "editable": true
   },
   "outputs": [
    {
     "name": "stdout",
     "output_type": "stream",
     "text": [
      "done!\n"
     ]
    }
   ],
   "source": [
    "print('done!')\n"
   ]
  },
  {
   "cell_type": "code",
   "execution_count": 23,
   "metadata": {
    "collapsed": false,
    "deletable": true,
    "editable": true
   },
   "outputs": [
    {
     "name": "stdout",
     "output_type": "stream",
     "text": [
      "Recommending 9 products similar to \"Forever 21 maroon crop tshirt: Looks really cute with black shorts or a black skirt on a hot sunny day\"...\n",
      "-------\n",
      "Recommended: \"Reebok black shorts: Comfy black shorts for sleeping or working out\" (score:0.110594597072)\n",
      "Recommended: \"Forever 21 green tank: chiiffon green tank is very comfortable and look so hot with the black shorts or the Jcrew shorts\" (score:0.105723280705)\n",
      "Recommended: \"Forever 21 purple furry sweater: The warmest fuzziest sweater that looks best with a black skirt or denim overalls\" (score:0.0946291385229)\n",
      "Recommended: \"Forever21 white tshirt: Your everyday V-neck tshirt to be worn with blue jeans or black or a black skirt\" (score:0.0836964131558)\n",
      "Recommended: \"Forever21 pink tshirt: Your everyday V-neck tshirt to be worn with blue jeans or black or a black skirt\" (score:0.0827603895136)\n",
      "Recommended: \"Forever 21 black corduroy shorts: Best for showing off legs, pairs best with any tshirt or if you are going for a classy look in the summer then any top would look really cool with this\" (score:0.079084410754)\n",
      "Recommended: \"LimeLight black blouse with lace detail:This sheer black blouse really enhances your selender figure when worn with a black tank-top underneath. It serves really well with a black-on-black look on a hot summer day or a very cold winter/ fall day\" (score:0.0761027198987)\n",
      "Recommended: \"Reebok grey shorts: Comfy black shorts for sleeping or working out\" (score:0.0722982783387)\n",
      "Recommended: \"Puma black shorts: for working out. Pair with puma tank, grey tank or Uniqlo black tank for black on black\" (score:0.0678353235778)\n"
     ]
    }
   ],
   "source": [
    "def item(id):\n",
    "    return data.loc[data['ID'] == id]['Description'].tolist()[0].split(' - ')[0]\n",
    "\n",
    "def recommend(item_id, num):\n",
    "    print(\"Recommending \" + str(num) + \" products similar to \" + item(item_id) + \"...\")\n",
    "    print(\"-------\")\n",
    "    recs = results[item_id][:num]\n",
    "    for rec in recs:\n",
    "        print(\"Recommended: \" + item(rec[1]) + \" (score:\" + str(rec[0]) + \")\")\n",
    "recommend(item_id=16, num=9)"
   ]
  },
  {
   "cell_type": "code",
   "execution_count": 3,
   "metadata": {
    "collapsed": false,
    "deletable": true,
    "editable": true
   },
   "outputs": [],
   "source": [
    "from flask import Flask\n"
   ]
  },
  {
   "cell_type": "code",
   "execution_count": null,
   "metadata": {
    "collapsed": true
   },
   "outputs": [],
   "source": []
  }
 ],
 "metadata": {
  "kernelspec": {
   "display_name": "Python 3",
   "language": "python",
   "name": "python3"
  },
  "language_info": {
   "codemirror_mode": {
    "name": "ipython",
    "version": 3
   },
   "file_extension": ".py",
   "mimetype": "text/x-python",
   "name": "python",
   "nbconvert_exporter": "python",
   "pygments_lexer": "ipython3",
   "version": "3.6.1"
  }
 },
 "nbformat": 4,
 "nbformat_minor": 2
}
