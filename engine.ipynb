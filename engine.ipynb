{
 "cells": [
  {
   "cell_type": "code",
   "execution_count": null,
   "metadata": {
    "collapsed": false,
    "deletable": true,
    "editable": true
   },
   "outputs": [],
   "source": [
    "import pandas as pd\n",
    "from sklearn.feature_extraction.text import TfidfVectorizer\n",
    "from sklearn.metrics.pairwise import linear_kernel\n",
    "from weather import Weather\n",
    "import warnings\n",
    "warnings.filterwarnings('ignore')"
   ]
  },
  {
   "cell_type": "code",
   "execution_count": 62,
   "metadata": {
    "collapsed": false,
    "deletable": true,
    "editable": true
   },
   "outputs": [
    {
     "name": "stdout",
     "output_type": "stream",
     "text": [
      "Enter keyword: sweater\n",
      "Here are some items that match your keyword:\n",
      "14   Forever 21 purple furry sweater: The warmest fuzziest sweater that looks best with a black skirt or denim overalls\n",
      "40   Wilson college merino wool black sweater: A baggy black sweater for a nice fall day  and show off Wilson pride\n",
      "53   Cheque black and grey turtleneck: The shortsleeved turtle neck sweater is perfect for providing some neck warmth from cold Boston winds\n",
      "56   Oxford teal lambwool sweater: A very warm snug lambwool sweater to keep you cozy in summer with blue jeans\n",
      "57   Oxford purple lambwool sweater: A very warm snug lambwool sweater to keep you cozy in summer with blue jeans\n",
      "81   Forever21 black skirt: A black miniskirt which goes great with tshirts or sweaters\n",
      "\n",
      "\n",
      "Please pick an item so we can find more recommendations.\n",
      "Enter ID:12\n",
      "Forever 21 black dress with mesh neck: It's perfect for professional classy black look. The neck provides an elegant feature to a simple black dress.outfit worn before\n"
     ]
    }
   ],
   "source": [
    "data = pd.read_csv(\"input_data.csv\")\n",
    "keyword = input('Enter keyword: ')\n",
    "print('Here are some items that match your keyword:')\n",
    "\n",
    "results = []\n",
    "\n",
    "for i in range(len(data['Description'])):\n",
    "    if keyword in data['Description'][i]:\n",
    "        results.append((i, data['Description'][i]))\n",
    "    if len(results) == 6:\n",
    "        break\n",
    "\n",
    "for result in results:\n",
    "    print(result[0], ' ', result[1])\n",
    "\n",
    "print('\\n')\n",
    "print('Please pick an item so we can find more recommendations.')\n",
    "reference_item = int(input('Enter ID:'))\n",
    "a = data['Description'][reference_item] + \"outfit worn before\"\n",
    "print(a)\n"
   ]
  },
  {
   "cell_type": "code",
   "execution_count": null,
   "metadata": {
    "collapsed": false,
    "deletable": true,
    "editable": true
   },
   "outputs": [],
   "source": [
    "data = pd.read_csv(\"input_data.csv\")\n",
    "weather = Weather(unit='c')\n",
    "\n",
    "current_location = 'Sydney'\n",
    "location = weather.lookup_by_location(current_location)\n",
    "condition = location.condition().text()\n",
    "\n",
    "forecasts = location.forecast()\n",
    "weather_lo = int(forecasts[0].low())\n",
    "weather_hi = int(forecasts[0].high())\n",
    "\n",
    "if weather_hi >= 18 and weather_lo <= 7:\n",
    "    data['Description'][reference_item] += ' fall spring layer'\n",
    "    weather_condition = 'Fall/Spring'\n",
    "elif weather_hi > 20:\n",
    "    data['Description'][reference_item] += ' hot sunny summer shorts skirt'\n",
    "    weather_condition = 'Hot'\n",
    "elif weather_lo < 5:\n",
    "    data['Description'][reference_item] += ' cold warm cozy sweater'\n",
    "    weather_condition = 'Cold'\n",
    "    \n",
    "message = '{} weather detected in {}. Recommendations are being tailored accordingly.'\n",
    "print(message.format(weather_condition, current_location))"
   ]
  },
  {
   "cell_type": "code",
   "execution_count": null,
   "metadata": {
    "collapsed": false,
    "deletable": true,
    "editable": true
   },
   "outputs": [],
   "source": [
    "tf = TfidfVectorizer(analyzer='word', ngram_range=(1, 3), min_df=0, stop_words='english')\n",
    "tfidf_matrix = tf.fit_transform(data['Description'])\n",
    "cosine_similarities = linear_kernel(tfidf_matrix, tfidf_matrix)\n",
    "results = {}"
   ]
  },
  {
   "cell_type": "code",
   "execution_count": null,
   "metadata": {
    "collapsed": true,
    "deletable": true,
    "editable": true
   },
   "outputs": [],
   "source": [
    "for idx, row in data.iterrows():\n",
    "    similar_indices = cosine_similarities[idx].argsort()[:-100:-1]\n",
    "    similar_items = [(cosine_similarities[idx][i], data['ID'][i]) for i in similar_indices]\n",
    "\n",
    "    # First item is the item itself, so remove it.\n",
    "    # Each dictionary entry is like: [(1,2), (3,4)], with each tuple being (score, item_id)\n",
    "    results[row['ID']] = similar_items[1:]"
   ]
  },
  {
   "cell_type": "code",
   "execution_count": 49,
   "metadata": {
    "collapsed": false,
    "deletable": true,
    "editable": true
   },
   "outputs": [
    {
     "name": "stdout",
     "output_type": "stream",
     "text": [
      "Recommending 9 clothes similar to Forever 21 purple furry sweater...\n",
      "-------\n",
      "Forever 21 maroon crop tshirt: Looks really cute with black shorts or a black skirt on a hot sunny day (score: 0.15044)\n",
      "Gap purple fine merino wool sweater: Light purple sweater that looks really classy with blue denim or grey denim (score: 0.12406)\n",
      "Uniqlo rayon olive green blouse: This sleeveless cotton blouse is very elegant. It's perfect for dressing up or down for casual or work . Looks best with blue jeans or black denim.Can also be paired with a black skirt. It's perfect for a warm sunny summer day. Black Tommy Hilfiger shoes are perfect with this (score: 0.09182)\n",
      "Forever 21 black corduroy shorts: Best for showing off legs (score: 0.0863)\n",
      "Oxford purple lambwool sweater: A very warm snug lambwool sweater to keep you cozy in summer with blue jeans (score: 0.08511)\n",
      "Forever 21 green tank: chiiffon green tank is very comfortable and look so hot with the black shorts or the Jcrew shorts (score: 0.0695)\n",
      "DKNY Tourqoiuse cashmere sweater: Fine cashmere sweater (score: 0.06868)\n",
      "Oxford teal lambwool sweater: A very warm snug lambwool sweater to keep you cozy in summer with blue jeans (score: 0.06837)\n",
      "Uniqlo pink blouse: This french linen blouse is very comfortable for a professional work environment. Looks best with blue jeans or grey denim. It's perfect for a warm sunny summer day. Grey toms look really beautiful with it (score: 0.06554)\n"
     ]
    }
   ],
   "source": [
    "def item(id):\n",
    "    return data.loc[data['ID'] == id]['Description'].tolist()[0].split(' - ')[0]\n",
    "\n",
    "def recommend(item_id, num):\n",
    "    print(\"Recommending \" + str(num) + \" clothes similar to \" + item(item_id).split(':')[0] + \"...\")\n",
    "    print(\"-------\")\n",
    "    recs = results[item_id][:num]\n",
    "    for rec in recs:\n",
    "        print(item(rec[1]) + \" (score: \" + str(round(rec[0], 5)) + \")\")\n",
    "recommend(item_id=reference_item, num=9)\n",
    "\n"
   ]
  },
  {
   "cell_type": "code",
   "execution_count": null,
   "metadata": {
    "collapsed": true,
    "deletable": true,
    "editable": true
   },
   "outputs": [],
   "source": []
  },
  {
   "cell_type": "code",
   "execution_count": null,
   "metadata": {
    "collapsed": true,
    "deletable": true,
    "editable": true
   },
   "outputs": [],
   "source": []
  }
 ],
 "metadata": {
  "kernelspec": {
   "display_name": "Python 3",
   "language": "python",
   "name": "python3"
  },
  "language_info": {
   "codemirror_mode": {
    "name": "ipython",
    "version": 3
   },
   "file_extension": ".py",
   "mimetype": "text/x-python",
   "name": "python",
   "nbconvert_exporter": "python",
   "pygments_lexer": "ipython3",
   "version": "3.6.3"
  }
 },
 "nbformat": 4,
 "nbformat_minor": 2
}
